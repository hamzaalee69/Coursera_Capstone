{
 "cells": [
  {
   "cell_type": "markdown",
   "metadata": {},
   "source": [
    "\n",
    "# Abstract"
   ]
  },
  {
   "cell_type": "markdown",
   "metadata": {},
   "source": [
    "This project is about categorizing different parts of Karachi City based on restaurants present in the area, their offered cuisines and targeted customers. It can benefit everyone from tourists to new businesses in this field alongside with the residents of the city. Some scenario beneficiaries of the project are:\n",
    "\n",
    "\n",
    "Scenario 1: I'm a foodie and wants to visit Karachi, I'll prefer a place where I can have unique cuisines every day. For this purpose, I'm looking for a place with lots and lots of restaurants of possibly different tastes to satisfy my urge.\n",
    "\n",
    "\n",
    "Scenario 2: I’m willing to open an Italian restaurant in Karachi. I’ll prefer a place where I can find a lot of young-age customers \n",
    "\n",
    "\n",
    "Scenario 3:  I already have a pizza outlet in Karachi, where should I open second branch so that I face minimum competition\n"
   ]
  },
  {
   "cell_type": "markdown",
   "metadata": {},
   "source": [
    "# Introduction"
   ]
  },
  {
   "cell_type": "markdown",
   "metadata": {},
   "source": [
    "Karachi is the most populous city in Pakistan, and fifth-most-populous city proper in the world. Ranked as a beta world city, the city is Pakistan's premier industrial and financial center and is considered as the cultural, economic, philanthropic, educational, and political hub of the country. Karachi is also Pakistan's most cosmopolitan city. Situated on the Arabian Sea, Karachi serves as a transport hub, and is home to Pakistan's two largest seaports, the Port of Karachi and Port Bin Qasim, as well as the Pakistan's busiest airport, Jinnah International Airport."
   ]
  },
  {
   "cell_type": "markdown",
   "metadata": {},
   "source": [
    "### Districts of Karachi City"
   ]
  },
  {
   "cell_type": "markdown",
   "metadata": {},
   "source": [
    "Karachi City is divided in 6 Districts as shown in picture below. Areas which are not a part of any district are separate cantonments. These districts are further divided into many small Union Councils."
   ]
  },
  {
   "cell_type": "markdown",
   "metadata": {},
   "source": [
    "![Districts of Karachi](img/Karachi_admin.png)"
   ]
  },
  {
   "cell_type": "markdown",
   "metadata": {},
   "source": [
    "# Data"
   ]
  },
  {
   "cell_type": "markdown",
   "metadata": {},
   "source": [
    "Data for this project will be obtained, analyzed and filtered as follows:\n",
    "\n",
    "- Parts of Karachi City along with their UC numbers will be obtained from the tables given at the page: http://www.kmc.gos.pk/Contents.aspx?id=84\n",
    "- Then for each data entry, food venues will be searched using Foursquare API\n",
    "- Then using clustering, they will be grouped into clusters.\n"
   ]
  },
  {
   "cell_type": "code",
   "execution_count": null,
   "metadata": {},
   "outputs": [],
   "source": []
  }
 ],
 "metadata": {
  "kernelspec": {
   "display_name": "Python 3",
   "language": "python",
   "name": "python3"
  },
  "language_info": {
   "codemirror_mode": {
    "name": "ipython",
    "version": 3
   },
   "file_extension": ".py",
   "mimetype": "text/x-python",
   "name": "python",
   "nbconvert_exporter": "python",
   "pygments_lexer": "ipython3",
   "version": "3.6.5"
  }
 },
 "nbformat": 4,
 "nbformat_minor": 2
}
